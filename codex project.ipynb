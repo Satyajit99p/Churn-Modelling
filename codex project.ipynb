{
 "cells": [
  {
   "cell_type": "code",
   "execution_count": 1,
   "metadata": {},
   "outputs": [],
   "source": [
    "import tkinter as tk"
   ]
  },
  {
   "cell_type": "code",
   "execution_count": 58,
   "metadata": {},
   "outputs": [
    {
     "name": "stdout",
     "output_type": "stream",
     "text": [
      "{'Satisfaction Level': '7852', 'Last Evaluation': '5824', 'Number Of Projects': '6347', 'Average Monthly hours': '45296', 'Years in Company': '887634', 'Work Accident': '4587263', 'Promotion': '688763', 'Salary': '786', 'Department': '876'}\n",
      "\n",
      "[dict_values(['7852', '5824', '6347', '45296', '887634', '4587263', '688763', '786', '876'])]\n",
      "<class 'pandas.core.frame.DataFrame'>\n",
      "  satisfaction_level last_evaluation number_project average_montly_hours  \\\n",
      "0               7852            5824           6347                45296   \n",
      "\n",
      "  time_spend_company Work_accident promotion_last_5years Departments  salary  \n",
      "0             887634       4587263                688763          786    876  \n"
     ]
    }
   ],
   "source": [
    "class App(tk.Frame):\n",
    "    def __init__(self,master=None,**kw):\n",
    "        #Create a blank dictionary\n",
    "        self.answers = {}\n",
    "        \n",
    "        tk.Frame.__init__(self,master=master,**kw)\n",
    "\n",
    "        tk.Label(self,text=\"Satisfaction Level\").grid(row=0,column=0)\n",
    "        self.question1 = tk.Entry(self)\n",
    "        self.question1.grid(row=0,column=1)\n",
    "\n",
    "        tk.Label(self,text=\"Last Evaluation\").grid(row=1,column=0)\n",
    "        self.question2 = tk.Entry(self)\n",
    "        self.question2.grid(row=1,column=1)\n",
    "        \n",
    "        tk.Label(self,text=\"Number of Project\").grid(row=2,column=0)\n",
    "        self.question3 = tk.Entry(self)\n",
    "        self.question3.grid(row=2,column=1)\n",
    "        \n",
    "        tk.Label(self,text=\"Average monthly Hours\").grid(row=3,column=0)\n",
    "        self.question4 = tk.Entry(self)\n",
    "        self.question4.grid(row=3,column=1)\n",
    "        \n",
    "        tk.Label(self,text=\"Years in Company\").grid(row=4,column=0)\n",
    "        self.question5 = tk.Entry(self)\n",
    "        self.question5.grid(row=4,column=1)\n",
    "        \n",
    "        tk.Label(self,text=\"Work Accident\").grid(row=5,column=0)\n",
    "        self.question6 = tk.Entry(self)\n",
    "        self.question6.grid(row=5,column=1)\n",
    "        \n",
    "        tk.Label(self,text=\"Promotion\").grid(row=6,column=0)\n",
    "        self.question7 = tk.Entry(self)\n",
    "        self.question7.grid(row=6,column=1)\n",
    "        \n",
    "        tk.Label(self,text=\"Salary\").grid(row=7,column=0)\n",
    "        self.question8 = tk.Entry(self)\n",
    "        self.question8.grid(row=7,column=1)\n",
    "        \n",
    "        tk.Label(self,text=\"Department\").grid(row=8,column=0)\n",
    "        self.question9 = tk.Entry(self)\n",
    "        self.question9.grid(row=8,column=1)\n",
    "\n",
    "        tk.Button(self,text=\"Go\",command = self.collectAnswers).grid(row=10,column=1)\n",
    "\n",
    "\n",
    "    def collectAnswers(self):\n",
    "        self.answers['Satisfaction Level'] = self.question1.get()\n",
    "        self.answers['Last Evaluation'] = self.question2.get()\n",
    "        self.answers['Number Of Projects'] = self.question3.get()\n",
    "        self.answers['Average Monthly hours'] = self.question4.get()\n",
    "        self.answers['Years in Company'] = self.question5.get()\n",
    "        self.answers['Work Accident'] = self.question6.get()\n",
    "        self.answers['Promotion'] = self.question7.get()\n",
    "        self.answers['Salary'] = self.question8.get()\n",
    "        self.answers['Department'] = self.question9.get()\n",
    "        functionThatUsesAnswers(self.answers)\n",
    "\n",
    "li=[]\n",
    "import numpy as np\n",
    "def functionThatUsesAnswers(answers):\n",
    "    print(answers)\n",
    "    print()\n",
    "    li.append(answers.values())\n",
    "    #li=np.reshape(li,(1,9))\n",
    "    print(li)\n",
    "    import pandas as pd\n",
    "    l2=pd.DataFrame(li,columns=['satisfaction_level', 'last_evaluation', 'number_project',\n",
    "       'average_montly_hours', 'time_spend_company', 'Work_accident',\n",
    "       'promotion_last_5years', 'Departments ', 'salary'],)\n",
    "    print(type(l2))\n",
    "    print(l2.head())\n",
    "\n",
    "if __name__ == '__main__':\n",
    "    root = tk.Tk()\n",
    "    App(root).grid()\n",
    "    root.mainloop()\n"
   ]
  },
  {
   "cell_type": "code",
   "execution_count": null,
   "metadata": {},
   "outputs": [],
   "source": []
  }
 ],
 "metadata": {
  "kernelspec": {
   "display_name": "Python 3",
   "language": "python",
   "name": "python3"
  },
  "language_info": {
   "codemirror_mode": {
    "name": "ipython",
    "version": 3
   },
   "file_extension": ".py",
   "mimetype": "text/x-python",
   "name": "python",
   "nbconvert_exporter": "python",
   "pygments_lexer": "ipython3",
   "version": "3.7.6"
  }
 },
 "nbformat": 4,
 "nbformat_minor": 4
}
